{
 "cells": [
  {
   "cell_type": "code",
   "execution_count": null,
   "id": "6e645fa8-0b8f-42ab-8233-30f7d1f1ba96",
   "metadata": {},
   "outputs": [],
   "source": [
    "### VERY SHORT EXAMPLE SCRIPT\n",
    "#pip install geopy\n",
    "#pip install folium\n",
    "from geopy.geocoders import Nominatim\n",
    "import folium\n",
    "geolocator = Nominatim(user_agent=\"jupyter\")\n",
    "city_country = \"Opwijk, Belgium\"\n",
    "location = geolocator.geocode(city_country)\n",
    "devnet_lat = location.latitude\n",
    "devnet_lon = location.longitude\n",
    "coordinates = [devnet_lat,devnet_lon]\n",
    "map = folium.Map(location=coordinates, titles='OpenStreetMap', zoom_start=24)\n",
    "display(map)"
   ]
  }
 ],
 "metadata": {
  "kernelspec": {
   "display_name": "Python 3 (ipykernel)",
   "language": "python",
   "name": "python3"
  },
  "language_info": {
   "codemirror_mode": {
    "name": "ipython",
    "version": 3
   },
   "file_extension": ".py",
   "mimetype": "text/x-python",
   "name": "python",
   "nbconvert_exporter": "python",
   "pygments_lexer": "ipython3",
   "version": "3.13.5"
  }
 },
 "nbformat": 4,
 "nbformat_minor": 5
}
