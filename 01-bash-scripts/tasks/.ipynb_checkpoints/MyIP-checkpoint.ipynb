{
 "cells": [
  {
   "cell_type": "code",
   "execution_count": 1,
   "id": "ddee7d5d-c239-4e53-aa10-9597a160c73a",
   "metadata": {},
   "outputs": [
    {
     "name": "stdout",
     "output_type": "stream",
     "text": [
      "Current date and time:\n",
      "2025-10-23 15:13:51.688826\n",
      "Public IP Address: 193.190.225.244\n",
      "Country: Belgium\n",
      "Country Code: BE\n"
     ]
    }
   ],
   "source": [
    "import requests\n",
    "import datetime\n",
    "print(\"Current date and time:\")\n",
    "print(datetime.datetime.now())\n",
    "response = requests.get('http://api.myip.com/')\n",
    "data = response.json()\n",
    "# print(data)\n",
    "ip_address = data.get('ip')\n",
    "country = data.get('country')\n",
    "country_code = data.get('cc')\n",
    "print(f\"Public IP Address: {ip_address}\")\n",
    "print(f\"Country: {country}\")\n",
    "print(f\"Country Code: {country_code}\")"
   ]
  },
  {
   "cell_type": "code",
   "execution_count": 2,
   "id": "765b0378-a393-4c88-937f-1c14ac6bbe0c",
   "metadata": {
    "scrolled": true
   },
   "outputs": [
    {
     "name": "stdout",
     "output_type": "stream",
     "text": [
      "=========================\n",
      "PATH User's Envirnonment:\n",
      "C:\\Users\\Ken\\anaconda3;C:\\Users\\Ken\\anaconda3\\Library\\mingw-w64\\bin;C:\\Users\\Ken\\anaconda3\\Library\\usr\\bin;C:\\Users\\Ken\\anaconda3\\Library\\bin;C:\\Users\\Ken\\anaconda3\\Scripts;C:\\WINDOWS\\system32;C:\\WINDOWS;C:\\WINDOWS\\System32\\Wbem;C:\\WINDOWS\\System32\\WindowsPowerShell\\v1.0\\;C:\\WINDOWS\\System32\\OpenSSH\\;C:\\Program Files\\PuTTY\\;C:\\Program Files\\NVIDIA Corporation\\NVIDIA App\\NvDLISR;C:\\Program Files\\Microsoft SQL Server\\150\\Tools\\Binn\\;C:\\Program Files\\Microsoft SQL Server\\Client SDK\\ODBC\\170\\Tools\\Binn\\;C:\\Program Files\\dotnet\\;C:\\Program Files (x86)\\NVIDIA Corporation\\PhysX\\Common;C:\\Program Files\\Git\\cmd;C:\\Users\\Ken\\AppData\\Local\\Programs\\Python\\Python313\\Scripts\\;C:\\Users\\Ken\\AppData\\Local\\Programs\\Python\\Python313\\;C:\\Users\\Ken\\AppData\\Local\\Microsoft\\WindowsApps;C:\\Users\\Ken\\AppData\\Local\\GitHubDesktop\\bin;C:\\Users\\Ken\\AppData\\Local\\Programs\\Microsoft VS Code\\bin;C:\\Users\\Ken\\.dotnet\\tools;\n"
     ]
    }
   ],
   "source": [
    "import os \n",
    "env_var = os.environ\n",
    "print(\"=========================\")\n",
    "print(\"PATH User's Envirnonment:\")\n",
    "print(env_var['PATH'])"
   ]
  },
  {
   "cell_type": "code",
   "execution_count": null,
   "id": "d089fbe4-3a56-4316-8b10-7e0a9facf596",
   "metadata": {},
   "outputs": [],
   "source": []
  }
 ],
 "metadata": {
  "kernelspec": {
   "display_name": "Python 3 (ipykernel)",
   "language": "python",
   "name": "python3"
  },
  "language_info": {
   "codemirror_mode": {
    "name": "ipython",
    "version": 3
   },
   "file_extension": ".py",
   "mimetype": "text/x-python",
   "name": "python",
   "nbconvert_exporter": "python",
   "pygments_lexer": "ipython3",
   "version": "3.13.5"
  }
 },
 "nbformat": 4,
 "nbformat_minor": 5
}
