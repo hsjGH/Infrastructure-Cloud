{
 "cells": [
  {
   "cell_type": "code",
   "execution_count": 9,
   "id": "d502c8f1-c018-4225-9ee1-b8856ca170ec",
   "metadata": {},
   "outputs": [
    {
     "name": "stdin",
     "output_type": "stream",
     "text": [
      "Wat is je subnet mask?  255.255.0.0\n"
     ]
    },
    {
     "name": "stdout",
     "output_type": "stream",
     "text": [
      "Je Prefix is: /16\n"
     ]
    }
   ],
   "source": [
    "netmask_prefixes = {\n",
    "    '255.255.255.255': '/32',\n",
    "    '255.255.255.254': '/31',\n",
    "    '255.255.255.252': '/30',\n",
    "    '255.255.255.248': '/29',\n",
    "    '255.255.255.240': '/28',\n",
    "    '255.255.255.224': '/27',\n",
    "    '255.255.255.192': '/26',\n",
    "    '255.255.255.128': '/25',\n",
    "    '255.255.255.0':   '/24',\n",
    "    '255.255.254.0':   '/23',\n",
    "    '255.255.252.0':   '/22',\n",
    "    '255.255.248.0':   '/21',\n",
    "    '255.255.240.0':   '/20',\n",
    "    '255.255.224.0':   '/19',\n",
    "    '255.255.192.0':   '/18',\n",
    "    '255.255.128.0':   '/17',\n",
    "    '255.255.0.0':     '/16',\n",
    "    '255.254.0.0':     '/15',\n",
    "    '255.252.0.0':     '/14',\n",
    "    '255.248.0.0':     '/13',\n",
    "    '255.240.0.0':     '/12',\n",
    "    '255.224.0.0':     '/11',\n",
    "    '255.192.0.0':     '/10',\n",
    "    '255.128.0.0':     '/9',\n",
    "    '255.0.0.0':       '/8'\n",
    "}\n",
    "\n",
    "def get_net_prefix(p_subnet_mask):\n",
    "    try: \n",
    "        net_prefix = netmask_prefixes[p_subnet_mask]\n",
    "        return net_prefix\n",
    "    except KeyError:\n",
    "        return \"Wrong input: garbage in, garbage out\"\n",
    "\n",
    "# Dev test function\n",
    "subnet_input = input('Wat is je subnet mask? ')\n",
    "net_prefix = get_net_prefix(subnet_input)\n",
    "print(f\"Je Prefix is: {net_prefix}\")"
   ]
  },
  {
   "cell_type": "code",
   "execution_count": 12,
   "id": "772da1e2-9ef0-49c7-8b0b-a88fcf4471aa",
   "metadata": {},
   "outputs": [
    {
     "name": "stdout",
     "output_type": "stream",
     "text": [
      "<class 'str'>\n",
      "<class 'dict'>\n",
      "<class 'str'>\n",
      "<class 'str'>\n"
     ]
    }
   ],
   "source": [
    "import json\n",
    "print(type(net_prefix))\n",
    "print(type(netmask_prefixes))\n",
    "\n",
    "# Maak van een dict een string\n",
    "netmask_pref_str = json.dumps(netmask_prefixes)\n",
    "print(type(netmask_pref_str))\n",
    "# Maak van een string een dict\n",
    "netmask_pref_dict = json.loads(netmask_pref_str)\n",
    "print(type(netmask_pref_str))"
   ]
  },
  {
   "cell_type": "code",
   "execution_count": null,
   "id": "5442d563-0e1b-4d90-888a-e0f510f790dc",
   "metadata": {},
   "outputs": [],
   "source": []
  }
 ],
 "metadata": {
  "kernelspec": {
   "display_name": "Python 3 (ipykernel)",
   "language": "python",
   "name": "python3"
  },
  "language_info": {
   "codemirror_mode": {
    "name": "ipython",
    "version": 3
   },
   "file_extension": ".py",
   "mimetype": "text/x-python",
   "name": "python",
   "nbconvert_exporter": "python",
   "pygments_lexer": "ipython3",
   "version": "3.13.5"
  }
 },
 "nbformat": 4,
 "nbformat_minor": 5
}
